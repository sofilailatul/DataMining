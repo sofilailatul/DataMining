{
  "nbformat": 4,
  "nbformat_minor": 0,
  "metadata": {
    "colab": {
      "provenance": [],
      "authorship_tag": "ABX9TyMxWX9pPibtYIxlwiTf2RDY",
      "include_colab_link": true
    },
    "kernelspec": {
      "name": "python3",
      "display_name": "Python 3"
    },
    "language_info": {
      "name": "python"
    }
  },
  "cells": [
    {
      "cell_type": "markdown",
      "metadata": {
        "id": "view-in-github",
        "colab_type": "text"
      },
      "source": [
        "<a href=\"https://colab.research.google.com/github/sofilailatul/DataMining/blob/main/percobaan2_modul12.ipynb\" target=\"_parent\"><img src=\"https://colab.research.google.com/assets/colab-badge.svg\" alt=\"Open In Colab\"/></a>"
      ]
    },
    {
      "cell_type": "code",
      "execution_count": 6,
      "metadata": {
        "id": "kWwlJ27vaJ_H"
      },
      "outputs": [],
      "source": [
        "import numpy as np\n",
        "from sklearn.datasets import load_iris\n",
        "from sklearn.model_selection import train_test_split\n",
        "from sklearn.preprocessing import StandardScaler\n",
        "from sklearn.neural_network import MLPClassifier\n",
        "from sklearn.metrics import accuracy_score, classification_report\n",
        "\n",
        "# Load dataset Iris\n",
        "iris = load_iris()\n",
        "X = iris.data\n",
        "y = iris.target\n",
        "\n",
        "# Bagi data menjadi data pelatihan dan data uji\n",
        "X_train, X_test, y_train, y_test = train_test_split(X, y, test_size=0.2, random_state=42)\n",
        "\n",
        "# Standarisasi fitur\n",
        "scaler = StandardScaler()\n",
        "X_train = scaler.fit_transform(X_train)\n",
        "X_test = scaler.transform(X_test)\n",
        "\n",
        "# Inisialisasi dan pelatihan model MLPClassifier\n",
        "mlp = MLPClassifier (hidden_layer_sizes=(2,), max_iter=5000, alpha=0.01, solver='adam', random_state=42)\n",
        "mlp.fit(X_train, y_train)\n",
        "\n",
        "# Prediksi pada data uji\n",
        "y_pred = mlp.predict(X_test)"
      ]
    },
    {
      "cell_type": "code",
      "source": [
        "#Evaluasi model\n",
        "accuracy = accuracy_score (y_test, y_pred)\n",
        "print (f'Akurasi: {accuracy* 100}%')\n",
        "print(classification_report (y_test, y_pred, target_names=iris.target_names))\n",
        "\n",
        "#Menampilkan arsitektur jaringan syaraf\n",
        "print(\"\\nArsitektur Neural Network: \")\n",
        "print (f\"Input Layer: {X_train.shape[1]} neurons\")\n",
        "for i, size in enumerate (mlp.hidden_layer_sizes):\n",
        "  print(f\"Hidden Layer {i + 1}: {size} neurons\")\n",
        "  print (f\"Output Layer: {mlp.n_outputs_} neurons\")\n",
        "  print (f\"Fungsi Aktivasi: {mlp.activation}\")\n",
        "\n",
        "# Jika ingin melihat bobot dan bias hasil pelatihan\n",
        "print(\"\\nBobot dan Bias: \")\n",
        "print(\"Bobot antara input dan hidden layer: \")\n",
        "print (mlp.coefs_[0])\n",
        "print(\"Bobot antara hidden dan output layer: \")\n",
        "print(mlp.coefs_[1])\n",
        "print(\"Biase dari hidden layer: \")\n",
        "print (mlp.intercepts_[0])\n",
        "print(\"Bias dari output layer:\")\n",
        "print (mlp.intercepts_[1])"
      ],
      "metadata": {
        "colab": {
          "base_uri": "https://localhost:8080/"
        },
        "id": "ttlNmIRRa3mU",
        "outputId": "fe635ab6-5af7-45fb-f233-d0640e564cf7"
      },
      "execution_count": 11,
      "outputs": [
        {
          "output_type": "stream",
          "name": "stdout",
          "text": [
            "Akurasi: 96.66666666666667%\n",
            "              precision    recall  f1-score   support\n",
            "\n",
            "      setosa       1.00      1.00      1.00        10\n",
            "  versicolor       1.00      0.89      0.94         9\n",
            "   virginica       0.92      1.00      0.96        11\n",
            "\n",
            "    accuracy                           0.97        30\n",
            "   macro avg       0.97      0.96      0.97        30\n",
            "weighted avg       0.97      0.97      0.97        30\n",
            "\n",
            "\n",
            "Arsitektur Neural Network: \n",
            "Input Layer: 4 neurons\n",
            "Hidden Layer 1: 2 neurons\n",
            "Output Layer: 3 neurons\n",
            "Fungsi Aktivasi: relu\n",
            "\n",
            "Bobot dan Bias: \n",
            "Bobot antara input dan hidden layer: \n",
            "[[ 0.29043092  0.37942107]\n",
            " [-0.11143083 -0.92803836]\n",
            " [-0.12502741  1.30316477]\n",
            " [-0.319365    3.00535738]]\n",
            "Bobot antara hidden dan output layer: \n",
            "[[-0.68226519  0.66971868  0.33982245]\n",
            " [-2.13634104 -0.01405818  0.64075203]]\n",
            "Biase dari hidden layer: \n",
            "[-0.36447033  1.46672126]\n",
            "Bias dari output layer:\n",
            "[ 1.66226276 -0.12257475 -2.92008277]\n"
          ]
        }
      ]
    }
  ]
}