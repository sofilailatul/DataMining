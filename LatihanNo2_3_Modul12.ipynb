{
  "nbformat": 4,
  "nbformat_minor": 0,
  "metadata": {
    "colab": {
      "provenance": [],
      "authorship_tag": "ABX9TyPTC6xjqV2rqjNRtKuSNT+v",
      "include_colab_link": true
    },
    "kernelspec": {
      "name": "python3",
      "display_name": "Python 3"
    },
    "language_info": {
      "name": "python"
    }
  },
  "cells": [
    {
      "cell_type": "markdown",
      "metadata": {
        "id": "view-in-github",
        "colab_type": "text"
      },
      "source": [
        "<a href=\"https://colab.research.google.com/github/sofilailatul/DataMining/blob/main/LatihanNo2_3_Modul12.ipynb\" target=\"_parent\"><img src=\"https://colab.research.google.com/assets/colab-badge.svg\" alt=\"Open In Colab\"/></a>"
      ]
    },
    {
      "cell_type": "code",
      "execution_count": 2,
      "metadata": {
        "colab": {
          "base_uri": "https://localhost:8080/"
        },
        "id": "P9JDLX1UFv0I",
        "outputId": "c453f28d-1d9a-43ec-a725-9313ee135166"
      },
      "outputs": [
        {
          "output_type": "stream",
          "name": "stderr",
          "text": [
            "/usr/local/lib/python3.10/dist-packages/sklearn/neural_network/_multilayer_perceptron.py:686: ConvergenceWarning: Stochastic Optimizer: Maximum iterations (1000) reached and the optimization hasn't converged yet.\n",
            "  warnings.warn(\n",
            "/usr/local/lib/python3.10/dist-packages/sklearn/neural_network/_multilayer_perceptron.py:686: ConvergenceWarning: Stochastic Optimizer: Maximum iterations (1000) reached and the optimization hasn't converged yet.\n",
            "  warnings.warn(\n",
            "/usr/local/lib/python3.10/dist-packages/sklearn/neural_network/_multilayer_perceptron.py:686: ConvergenceWarning: Stochastic Optimizer: Maximum iterations (1000) reached and the optimization hasn't converged yet.\n",
            "  warnings.warn(\n",
            "/usr/local/lib/python3.10/dist-packages/sklearn/neural_network/_multilayer_perceptron.py:686: ConvergenceWarning: Stochastic Optimizer: Maximum iterations (1000) reached and the optimization hasn't converged yet.\n",
            "  warnings.warn(\n",
            "/usr/local/lib/python3.10/dist-packages/sklearn/neural_network/_multilayer_perceptron.py:686: ConvergenceWarning: Stochastic Optimizer: Maximum iterations (1000) reached and the optimization hasn't converged yet.\n",
            "  warnings.warn(\n"
          ]
        },
        {
          "output_type": "stream",
          "name": "stdout",
          "text": [
            "Hidden Layer Size: (10,), Activation: relu, Accuracy: 33.85%\n",
            "Hidden Layer Size: (10,), Activation: tanh, Accuracy: 32.31%\n",
            "Hidden Layer Size: (20,), Activation: relu, Accuracy: 23.08%\n",
            "Hidden Layer Size: (20,), Activation: tanh, Accuracy: 26.15%\n",
            "Hidden Layer Size: (30,), Activation: relu, Accuracy: 28.46%\n",
            "Hidden Layer Size: (30,), Activation: tanh, Accuracy: 29.23%\n"
          ]
        },
        {
          "output_type": "stream",
          "name": "stderr",
          "text": [
            "/usr/local/lib/python3.10/dist-packages/sklearn/neural_network/_multilayer_perceptron.py:686: ConvergenceWarning: Stochastic Optimizer: Maximum iterations (1000) reached and the optimization hasn't converged yet.\n",
            "  warnings.warn(\n"
          ]
        }
      ],
      "source": [
        "import pandas as pd\n",
        "from sklearn.model_selection import train_test_split\n",
        "from sklearn.preprocessing import StandardScaler, LabelEncoder\n",
        "from sklearn.neural_network import MLPClassifier\n",
        "from sklearn.metrics import accuracy_score\n",
        "\n",
        "# Load the Excel file\n",
        "file_path = '/content/Dataset Studnet.xlsx'\n",
        "xls = pd.ExcelFile(file_path)\n",
        "\n",
        "# Load the data from the sheet\n",
        "data = pd.read_excel(file_path, sheet_name='por2')\n",
        "\n",
        "# Drop the unnamed index column\n",
        "data_cleaned = data.drop(columns=['Unnamed: 0'])\n",
        "\n",
        "# Separate features and target variable\n",
        "X = data_cleaned.drop(columns=['G3'])\n",
        "y = data_cleaned['G3']\n",
        "\n",
        "# Convert categorical columns to numeric\n",
        "categorical_columns = X.select_dtypes(include=['object']).columns\n",
        "for col in categorical_columns:\n",
        "    le = LabelEncoder()\n",
        "    X[col] = le.fit_transform(X[col])\n",
        "\n",
        "# Split the data into training and testing sets\n",
        "X_train, X_test, y_train, y_test = train_test_split(X, y, test_size=0.2, random_state=42)\n",
        "\n",
        "# Standardize the data\n",
        "scaler = StandardScaler()\n",
        "X_train = scaler.fit_transform(X_train)\n",
        "X_test = scaler.transform(X_test)\n",
        "\n",
        "# Define the combinations of hidden layer sizes and activation functions to try\n",
        "hidden_layer_sizes = [(10,), (20,), (30,)]\n",
        "activation_functions = ['relu', 'tanh']\n",
        "\n",
        "results = []\n",
        "\n",
        "# Train and evaluate the model with different combinations\n",
        "for size in hidden_layer_sizes:\n",
        "    for activation in activation_functions:\n",
        "        mlp = MLPClassifier(hidden_layer_sizes=size, activation=activation, max_iter=1000, random_state=42)\n",
        "        mlp.fit(X_train, y_train)\n",
        "        y_pred = mlp.predict(X_test)\n",
        "        accuracy = accuracy_score(y_test, y_pred)\n",
        "        results.append((size, activation, accuracy))\n",
        "\n",
        "# Print the results\n",
        "for result in results:\n",
        "    print(f\"Hidden Layer Size: {result[0]}, Activation: {result[1]}, Accuracy: {result[2]:.2%}\")\n"
      ]
    }
  ]
}