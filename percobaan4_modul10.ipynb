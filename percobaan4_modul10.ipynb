{
  "nbformat": 4,
  "nbformat_minor": 0,
  "metadata": {
    "colab": {
      "provenance": [],
      "authorship_tag": "ABX9TyMkK0FRpQq3zgn7zuZjvH0D",
      "include_colab_link": true
    },
    "kernelspec": {
      "name": "python3",
      "display_name": "Python 3"
    },
    "language_info": {
      "name": "python"
    }
  },
  "cells": [
    {
      "cell_type": "markdown",
      "metadata": {
        "id": "view-in-github",
        "colab_type": "text"
      },
      "source": [
        "<a href=\"https://colab.research.google.com/github/sofilailatul/DataMining/blob/main/percobaan4_modul10.ipynb\" target=\"_parent\"><img src=\"https://colab.research.google.com/assets/colab-badge.svg\" alt=\"Open In Colab\"/></a>"
      ]
    },
    {
      "cell_type": "code",
      "execution_count": null,
      "metadata": {
        "colab": {
          "base_uri": "https://localhost:8080/"
        },
        "id": "wmQZBNmDfsTH",
        "outputId": "aa55fdc4-4982-495c-c9a8-5fd42750be97"
      },
      "outputs": [
        {
          "output_type": "stream",
          "name": "stderr",
          "text": [
            "/usr/local/lib/python3.10/dist-packages/sklearn/cluster/_kmeans.py:870: FutureWarning: The default value of `n_init` will change from 10 to 'auto' in 1.4. Set the value of `n_init` explicitly to suppress the warning\n",
            "  warnings.warn(\n"
          ]
        },
        {
          "output_type": "stream",
          "name": "stdout",
          "text": [
            "Cluster 1 Songs:\n",
            "['Stuck In The Middle', 'Satu-Satunya', 'Ada Untukmu', 'Rahasia Cintaku #Baper']\n",
            "\n",
            "Cluster 2 Songs:\n",
            "['Ada', 'Aku Yang Jatuh Cinta', 'HAHAHA']\n",
            "\n",
            "Cluster 3 Songs:\n",
            "['Tak Ingin Pisah Lagi', 'LIKE THAT', 'Love wins all', 'Cinta Dan Rahasia', 'Jatuh Suka', 'Berakhir Sama']\n",
            "\n",
            "Cluster 4 Songs:\n",
            "['Sialan', 'Kamu']\n",
            "\n",
            "Cluster 5 Songs:\n",
            "['Risalah Hati']\n",
            "\n"
          ]
        }
      ],
      "source": [
        "import spotipy\n",
        "from spotipy.oauth2 import SpotifyClientCredentials\n",
        "from sklearn.cluster import KMeans\n",
        "import pandas as pd\n",
        "\n",
        "# Inisialisasi koneksi dengan Spotify API\n",
        "client_credentials_manager = SpotifyClientCredentials(client_id='1b1a15683e6c4de0957911a4338ad5d6', client_secret='f6d905f365c848f3befb22a6d369152d')\n",
        "sp = spotipy.Spotify(client_credentials_manager=client_credentials_manager)\n",
        "\n",
        "# Fungsi untuk mendapatkan track playlist dari spotify\n",
        "def get_playlist_tracks(username, playlist_id):\n",
        "    results = sp.user_playlist_tracks(username, playlist_id)\n",
        "    tracks = results['items']\n",
        "    while results['next']:\n",
        "        results = sp.next(results)\n",
        "        tracks.extend(results['items'])\n",
        "    return tracks\n",
        "\n",
        "# Fungsi untuk mendapatkan fitur audio\n",
        "def get_audio_features(tracks):\n",
        "    ids = [track['track']['id'] for track in tracks if track['track']['id'] is not None]\n",
        "    features = sp.audio_features(ids)\n",
        "    return features\n",
        "\n",
        "# mengambil playlist spotify\n",
        "username = '31r7sh227cfeexnopv6etmi7xdje'\n",
        "playlist_id = '5w7RWklOn1di24pKNTh6LK'\n",
        "\n",
        "tracks = get_playlist_tracks(username, playlist_id)\n",
        "# mengambil fitur audio untuk lagu-lagu dari playlist\n",
        "features = get_audio_features(tracks)\n",
        "# ekstract nama seluruh lagu\n",
        "track_names = [track['track']['name'] for track in tracks]\n",
        "# Membuat dataframe dari nama lagu dan fitur audio\n",
        "df = pd.DataFrame(features)\n",
        "df['track_name'] = track_names\n",
        "\n",
        "# Ambil fitur yang dibutuhkan untuk clustering\n",
        "X = df[['acousticness', 'danceability', 'energy', 'instrumentalness', 'loudness', 'speechiness', 'tempo', 'valence']]\n",
        "\n",
        "# Isikan jumlah Cluster\n",
        "n_clusters = 5\n",
        "# Buat model KMeans\n",
        "kmeans = KMeans(n_clusters=n_clusters)\n",
        "# Train model cluster\n",
        "kmeans.fit(X)\n",
        "# ambil label cluster\n",
        "labels = kmeans.labels_\n",
        "# tambahkan label cluster ke DataFrame\n",
        "df['cluster'] = labels\n",
        "\n",
        "# tampilkan lagu untuk tiap cluster cluster\n",
        "for cluster_id in range(n_clusters):\n",
        "    cluster_songs = df[df['cluster'] == cluster_id]['track_name']\n",
        "    print(f'Cluster {cluster_id + 1} Songs:')\n",
        "    print(cluster_songs.tolist())\n",
        "    print()"
      ]
    }
  ]
}