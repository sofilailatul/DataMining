{
  "nbformat": 4,
  "nbformat_minor": 0,
  "metadata": {
    "colab": {
      "provenance": [],
      "authorship_tag": "ABX9TyPOde/ixHzxAc73Y7ctgOwM",
      "include_colab_link": true
    },
    "kernelspec": {
      "name": "python3",
      "display_name": "Python 3"
    },
    "language_info": {
      "name": "python"
    }
  },
  "cells": [
    {
      "cell_type": "markdown",
      "metadata": {
        "id": "view-in-github",
        "colab_type": "text"
      },
      "source": [
        "<a href=\"https://colab.research.google.com/github/sofilailatul/DataMining/blob/main/Percobaan3_modul12.ipynb\" target=\"_parent\"><img src=\"https://colab.research.google.com/assets/colab-badge.svg\" alt=\"Open In Colab\"/></a>"
      ]
    },
    {
      "cell_type": "code",
      "execution_count": 17,
      "metadata": {
        "colab": {
          "base_uri": "https://localhost:8080/"
        },
        "id": "zm0IKLodcQt_",
        "outputId": "9f33c7b2-7eeb-4bf6-c90d-e87bab845261"
      },
      "outputs": [
        {
          "output_type": "stream",
          "name": "stderr",
          "text": [
            "/usr/local/lib/python3.10/dist-packages/sklearn/preprocessing/_encoders.py:868: FutureWarning: `sparse` was renamed to `sparse_output` in version 1.2 and will be removed in 1.4. `sparse_output` is ignored unless you leave `sparse` to its default value.\n",
            "  warnings.warn(\n"
          ]
        },
        {
          "output_type": "stream",
          "name": "stdout",
          "text": [
            "Epoch 1000, Loss: 0.019509750668484028\n",
            "Epoch 2000, Loss: 0.013124091004250757\n",
            "Epoch 3000, Loss: 0.01209906970618874\n",
            "Epoch 4000, Loss: 0.011671736356642695\n",
            "Epoch 5000, Loss: 0.011417050292884574\n",
            "Accuracy: {accuracy * 100}%\n"
          ]
        }
      ],
      "source": [
        "import numpy as np\n",
        "from sklearn.datasets import load_iris\n",
        "from sklearn.model_selection import train_test_split\n",
        "from sklearn.preprocessing import OneHotEncoder\n",
        "from sklearn.metrics import accuracy_score\n",
        "\n",
        "# Load dataset Iris\n",
        "iris = load_iris()\n",
        "X = iris.data\n",
        "y = iris.target\n",
        "\n",
        "# One-hot encoding untuk label\n",
        "encoder = OneHotEncoder(sparse=False)\n",
        "y = encoder.fit_transform(y.reshape(-1, 1))\n",
        "\n",
        "# Bagi data menjadi data pelatihan dan data uji\n",
        "X_train, X_test, y_train, y_test = train_test_split(X, y, test_size=0.2, random_state=42)\n",
        "\n",
        "# Fungsi aktivasi sigmoid\n",
        "def sigmoid(x):\n",
        "    return 1 / (1 + np.exp(-x))\n",
        "\n",
        "# Turunan fungsi sigmoid\n",
        "def sigmoid_derivative(x):\n",
        "  return x * (1-x)\n",
        "\n",
        "# Parameter jaringan neural\n",
        "input_layer_neurons = X_train.shape[1]\n",
        "hidden_layer_neurons = 10\n",
        "output_layer_neurons = y_train.shape[1]\n",
        "\n",
        "# Inisialisasi bobot dan bias\n",
        "np.random.seed(42)\n",
        "weights_input_hidden = np.random.uniform(size=(input_layer_neurons, hidden_layer_neurons))\n",
        "weights_hidden_output = np.random.uniform(size=(hidden_layer_neurons, output_layer_neurons))\n",
        "bias_hidden = np.random.uniform(size=(1, hidden_layer_neurons))\n",
        "bias_output = np.random.uniform(size=(1, output_layer_neurons))\n",
        "\n",
        "# Hiperparameter\n",
        "learning_rate = 0.01\n",
        "epochs = 5000\n",
        "\n",
        "# Proses pelatihan\n",
        "for epoch in range(epochs):\n",
        "  # Forward propagation\n",
        "  hidden_layer_input = np.dot(X_train, weights_input_hidden) + bias_hidden\n",
        "  hidden_layer_output = sigmoid(hidden_layer_input)\n",
        "  output_layer_input = np.dot(hidden_layer_output, weights_hidden_output) + bias_output\n",
        "  predicted_output = sigmoid(output_layer_input)\n",
        "\n",
        "  # Backpropagation\n",
        "  error = y_train - predicted_output\n",
        "  d_predicted_output = error * sigmoid_derivative(predicted_output)\n",
        "  error_hidden_layer = d_predicted_output.dot(weights_hidden_output.T)\n",
        "  d_hidden_layer = error_hidden_layer * sigmoid_derivative(hidden_layer_output)\n",
        "\n",
        "  # Update bobot dan bias\n",
        "  weights_hidden_output += hidden_layer_output.T.dot(d_predicted_output) * learning_rate\n",
        "  bias_output += np.sum(d_predicted_output, axis=0, keepdims=True) * learning_rate\n",
        "  weights_input_hidden += X_train.T.dot(d_hidden_layer) * learning_rate\n",
        "  bias_hidden += np.sum(d_hidden_layer, axis=0, keepdims=True) * learning_rate\n",
        "\n",
        "  # Cetak error setiap 1000 epochs\n",
        "  if (epoch + 1) % 1000 == 0:\n",
        "    loss = np.mean(np.square(error))\n",
        "    print(f'Epoch {epoch + 1}, Loss: {loss}')\n",
        "\n",
        "# Prediksi pada data uji\n",
        "hidden_layer_input = np.dot(X_test, weights_input_hidden) + bias_hidden\n",
        "hidden_layer_output = sigmoid(hidden_layer_input)\n",
        "output_layer_input = np.dot(hidden_layer_output, weights_hidden_output) + bias_output\n",
        "predicted_output = sigmoid(output_layer_input)\n",
        "\n",
        "# Evaluasi model\n",
        "y_test_labels = np.argmax(y_test, axis=1)\n",
        "predicted_labels = np.argmax(predicted_output, axis=1)\n",
        "accuracy = accuracy_score(y_test_labels, predicted_labels)\n",
        "print('Accuracy: {accuracy * 100}%')\n"
      ]
    }
  ]
}